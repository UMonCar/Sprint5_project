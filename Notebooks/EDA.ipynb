{
 "cells": [
  {
   "cell_type": "code",
   "execution_count": null,
   "metadata": {},
   "outputs": [],
   "source": [
    "import pandas as pd\n",
    "import plotly.express as px"
   ]
  },
  {
   "cell_type": "code",
   "execution_count": null,
   "metadata": {},
   "outputs": [],
   "source": [
    "car_data = pd.read_csv('vehicles_us.csv') # leer los datos\n",
    "# print(car_data.info())"
   ]
  },
  {
   "cell_type": "code",
   "execution_count": null,
   "metadata": {},
   "outputs": [],
   "source": [
    "# Importar paquetes/modulos/bibliotecas\n",
    "#################################################################################\n",
    "import pandas as pd\n",
    "import plotly.express as px\n",
    "import streamlit as st\n",
    "\n",
    "# Funciones\n",
    "#################################################################################\n",
    "\n",
    "\n",
    "def get_coutn_values(car_data: pd.DataFrame, idx: list, vals: list):\n",
    "    pivot_cars = car_data.pivot_table(index=idx,\n",
    "                                      values=vals,\n",
    "                                      aggfunc=['count', 'sum']).reset_index()\n",
    "    return pivot_cars\n",
    "\n",
    "\n",
    "def get_brand(car_data: pd.DataFrame) -> list:\n",
    "    res = []\n",
    "    aux = []\n",
    "    for model in car_data['model']:\n",
    "        aux = model.split(' ', 1)\n",
    "        res.append(aux[0])\n",
    "        aux = []\n",
    "    return res"
   ]
  },
  {
   "cell_type": "code",
   "execution_count": null,
   "metadata": {},
   "outputs": [],
   "source": [
    "# Creamos la columna para almacenar la marca del vehículo\n",
    "car_data['brand'] = get_brand(car_data)\n",
    "\n",
    "# Creamos un dataframe para agrupar la cantidad de carros vendidos por marca\n",
    "# y tipo\n",
    "brand_type_grp = get_coutn_values(car_data, ['brand', 'type'], ['price'])\n",
    "brand_type_grp.columns = ['brand', 'type', 'count', 'sales']\n",
    "\n",
    "# Creamos un dataframe para agrupar los precios por modelo\n",
    "model_type_grp = get_coutn_values(car_data, ['model', 'type'], ['price'])\n",
    "model_type_grp.columns = ['model', 'type', 'count', 'sales']\n",
    "model_type_grp['brand'] = get_brand(model_type_grp)\n",
    "\n",
    "# Guardamos en una lista las marcas existentes\n",
    "brands = car_data['brand'].unique()"
   ]
  },
  {
   "cell_type": "code",
   "execution_count": null,
   "metadata": {},
   "outputs": [],
   "source": [
    "col = 'model'\n",
    "ford_df = car_data[car_data['brand'] == 'ford' ][col]\n",
    "bmw_df = car_data[car_data['brand'] == 'bmw' ][col]\n",
    "\n",
    "show_df = pd.concat([ford_df, bmw_df], axis = 1)\n",
    "show_df.columns = [col+'_1',col+'_2']\n",
    "# ford_df.info()\n",
    "# bmw_df.info()\n",
    "\n",
    "\n",
    "show_df.info()\n",
    "show_df.sample(10)"
   ]
  },
  {
   "cell_type": "code",
   "execution_count": null,
   "metadata": {},
   "outputs": [],
   "source": [
    "fig = px.histogram(car_data, x=\"odometer\") # crear un histograma\n",
    "fig.show() # crear gráfico de dispersión"
   ]
  },
  {
   "cell_type": "code",
   "execution_count": null,
   "metadata": {},
   "outputs": [],
   "source": [
    "fig = px.scatter(car_data, x=\"odometer\", y=\"price\") # crear un gráfico de dispersión\n",
    "fig.show() # crear gráfico de dispersión"
   ]
  },
  {
   "cell_type": "code",
   "execution_count": null,
   "metadata": {},
   "outputs": [],
   "source": [
    "print(car_data.describe())\n",
    "# fig = px.bar(car_data, x=\"odometer\", color=\"model\", title=\"Long-Form Input\")\n",
    "# fig.show()"
   ]
  },
  {
   "cell_type": "code",
   "execution_count": null,
   "metadata": {},
   "outputs": [],
   "source": [
    "res = [ ]\n",
    "aux = [ ]\n",
    "for model in car_data['model']:\n",
    "    aux = model.split(' ', 1)\n",
    "    res.append(aux[0])\n",
    "    aux = [ ]\n",
    "\n",
    "print(res[0:10])"
   ]
  },
  {
   "cell_type": "code",
   "execution_count": null,
   "metadata": {},
   "outputs": [],
   "source": [
    "car_data['brand'] = res\n",
    "car_data.info()\n",
    "# print(car_data.head())"
   ]
  },
  {
   "cell_type": "code",
   "execution_count": null,
   "metadata": {},
   "outputs": [],
   "source": [
    "def hist_Create(car_data: pd.DataFrame, brand1: str, brand2: str, column: str) -> pd.DataFrame:\n",
    "    df_1 = car_data[car_data['brand'] == brand1][column]\n",
    "    df_2 = car_data[car_data['brand'] == brand2][column]\n",
    "    aux_1 = car_data[car_data['brand'] == brand1]['brand']\n",
    "    aux_2 = car_data[car_data['brand'] == brand2]['brand']\n",
    "    df_brand = pd.concat([aux_1, aux_2])\n",
    "    # print(type(df_brand))\n",
    "\n",
    "    show_df = pd.concat([df_1, df_2], axis=1)\n",
    "    show_df['brand'] = df_brand\n",
    "    show_df.columns = [column+'_1', column+'_2', 'brand']\n",
    "\n",
    "    return show_df"
   ]
  },
  {
   "cell_type": "code",
   "execution_count": null,
   "metadata": {},
   "outputs": [],
   "source": [
    "hist_df = hist_Create(car_data, 'bmw', 'ford', 'model')\n",
    "print(hist_df.sample(10))"
   ]
  },
  {
   "cell_type": "code",
   "execution_count": null,
   "metadata": {},
   "outputs": [],
   "source": []
  }
 ],
 "metadata": {
  "kernelspec": {
   "display_name": "myenv",
   "language": "python",
   "name": "python3"
  },
  "language_info": {
   "codemirror_mode": {
    "name": "ipython",
    "version": 3
   },
   "file_extension": ".py",
   "mimetype": "text/x-python",
   "name": "python",
   "nbconvert_exporter": "python",
   "pygments_lexer": "ipython3",
   "version": "3.11.7"
  }
 },
 "nbformat": 4,
 "nbformat_minor": 2
}
